{
 "cells": [
  {
   "cell_type": "code",
   "execution_count": null,
   "metadata": {
    "collapsed": true
   },
   "outputs": [],
   "source": [
    "import numpy as np\n",
    "import scipy as sp\n"
   ]
  },
  {
   "cell_type": "code",
   "execution_count": null,
   "metadata": {
    "collapsed": false
   },
   "outputs": [],
   "source": [
    "k = .0083472\n",
    "E = 1\n",
    "t = 302.6\n",
    "B = 1/(k*t)\n",
    "x1 = -1.14\n",
    "x2 = 1.5\n",
    "\n",
    "def r(d,e):\n",
    "    abs(d-e)\n",
    "\n",
    "def e(a, b, c):\n",
    "    4*E*((3.405/a)**12-(3.405/a)**6)+0.5*b**2+0.5*c**2\n",
    "\n",
    "\n",
    "#def a() = 2.71828**(-b*(e2-e1))\n",
    "\n",
    "n = int(input('Number of iterations: '))"
   ]
  },
  {
   "cell_type": "code",
   "execution_count": null,
   "metadata": {
    "collapsed": false
   },
   "outputs": [],
   "source": [
    "from random import uniform\n",
    "\n",
    "for i in range(n):\n",
    "    e0 = e(r(x1,x2), x1, x2)\n",
    "    chooser = uniform(0,1)\n",
    "    move = uniform(-0.5, 0.5)\n",
    "    if chooser < 0.5:\n",
    "        t1 = x1 + move\n",
    "        r(t1, x2) = rn\n",
    "        en = e(rn, t1, x2)\n",
    "    else:\n",
    "        "
   ]
  }
 ],
 "metadata": {
  "kernelspec": {
   "display_name": "Python 3",
   "language": "python",
   "name": "python3"
  },
  "language_info": {
   "codemirror_mode": {
    "name": "ipython",
    "version": 3
   },
   "file_extension": ".py",
   "mimetype": "text/x-python",
   "name": "python",
   "nbconvert_exporter": "python",
   "pygments_lexer": "ipython3",
   "version": "3.6.0"
  }
 },
 "nbformat": 4,
 "nbformat_minor": 2
}
